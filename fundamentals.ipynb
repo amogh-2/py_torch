{
 "cells": [
  {
   "cell_type": "markdown",
   "metadata": {
    "id": "DgsKBXnntNKM"
   },
   "source": [
    "## 00.Pytorch_Fundamentals"
   ]
  },
  {
   "cell_type": "code",
   "execution_count": 31,
   "metadata": {
    "colab": {
     "base_uri": "https://localhost:8080/"
    },
    "id": "4Dre8YWVsF6g",
    "outputId": "1d3d9df1-d1d9-452d-cb15-0f1da77beb4c"
   },
   "outputs": [
    {
     "name": "stdout",
     "output_type": "stream",
     "text": [
      "2.7.0+cu126\n"
     ]
    }
   ],
   "source": [
    "import torch\n",
    "import pandas as pd\n",
    "import numpy as np\n",
    "import matplotlib.pyplot as plt\n",
    "print(torch.__version__)"
   ]
  },
  {
   "cell_type": "markdown",
   "metadata": {
    "id": "2L5KLY-6sMET"
   },
   "source": [
    "#Introduction to a Tensors\n",
    "\n",
    "#Creating Tensors\n",
    "\n",
    "Pytorch Tensors are created using torch.tensor()\n",
    "\n"
   ]
  },
  {
   "cell_type": "markdown",
   "metadata": {},
   "source": []
  },
  {
   "cell_type": "code",
   "execution_count": 32,
   "metadata": {
    "colab": {
     "base_uri": "https://localhost:8080/"
    },
    "id": "Qa17rr32w_e2",
    "outputId": "bf9b697b-159b-4f53-b846-e98f292f19a4"
   },
   "outputs": [
    {
     "data": {
      "text/plain": [
       "0"
      ]
     },
     "execution_count": 32,
     "metadata": {},
     "output_type": "execute_result"
    }
   ],
   "source": [
    "#scalar\n",
    "scalar=torch.tensor(7)\n",
    "scalar\n",
    "scalar.ndim\n"
   ]
  },
  {
   "cell_type": "code",
   "execution_count": 33,
   "metadata": {
    "colab": {
     "base_uri": "https://localhost:8080/"
    },
    "id": "YlzxzyodxmHm",
    "outputId": "8ef5cae7-4edd-4437-8655-63655b329ad0"
   },
   "outputs": [
    {
     "data": {
      "text/plain": [
       "7"
      ]
     },
     "execution_count": 33,
     "metadata": {},
     "output_type": "execute_result"
    }
   ],
   "source": [
    "#Get tensor back as int\n",
    "scalar.item()"
   ]
  },
  {
   "cell_type": "code",
   "execution_count": 34,
   "metadata": {
    "colab": {
     "base_uri": "https://localhost:8080/"
    },
    "id": "FexI3Mpcy_A6",
    "outputId": "863a474d-2f50-4edc-9edb-8878e3233553"
   },
   "outputs": [
    {
     "data": {
      "text/plain": [
       "tensor([5, 3, 3])"
      ]
     },
     "execution_count": 34,
     "metadata": {},
     "output_type": "execute_result"
    }
   ],
   "source": [
    "#vector\n",
    "vector=torch.tensor([5,3,3])\n",
    "vector"
   ]
  },
  {
   "cell_type": "code",
   "execution_count": 35,
   "metadata": {
    "colab": {
     "base_uri": "https://localhost:8080/"
    },
    "id": "nH3xh55uzpCh",
    "outputId": "4b619511-2f97-49bf-a16c-b70936050a54"
   },
   "outputs": [
    {
     "data": {
      "text/plain": [
       "1"
      ]
     },
     "execution_count": 35,
     "metadata": {},
     "output_type": "execute_result"
    }
   ],
   "source": [
    "vector.ndim"
   ]
  },
  {
   "cell_type": "code",
   "execution_count": 36,
   "metadata": {
    "colab": {
     "base_uri": "https://localhost:8080/"
    },
    "id": "ZZmXPdy5zw6y",
    "outputId": "470157fc-195c-4284-81d6-c37092d3d0f1"
   },
   "outputs": [
    {
     "data": {
      "text/plain": [
       "torch.Size([3])"
      ]
     },
     "execution_count": 36,
     "metadata": {},
     "output_type": "execute_result"
    }
   ],
   "source": [
    "vector.shape"
   ]
  },
  {
   "cell_type": "code",
   "execution_count": 37,
   "metadata": {
    "colab": {
     "base_uri": "https://localhost:8080/"
    },
    "id": "QJvDef8ez1Zr",
    "outputId": "c2266a04-06d6-42b5-f7f3-9237d25e9b49"
   },
   "outputs": [
    {
     "data": {
      "text/plain": [
       "tensor([[1, 2],\n",
       "        [3, 4]])"
      ]
     },
     "execution_count": 37,
     "metadata": {},
     "output_type": "execute_result"
    }
   ],
   "source": [
    "#matrix\n",
    "MATRIX=torch.tensor([[1,2],[3,4]])\n",
    "MATRIX"
   ]
  },
  {
   "cell_type": "code",
   "execution_count": 38,
   "metadata": {
    "colab": {
     "base_uri": "https://localhost:8080/"
    },
    "id": "IiIxS9xa0amb",
    "outputId": "591dd3ee-3b69-4531-a96f-9aae2ad01702"
   },
   "outputs": [
    {
     "data": {
      "text/plain": [
       "torch.Size([2, 2])"
      ]
     },
     "execution_count": 38,
     "metadata": {},
     "output_type": "execute_result"
    }
   ],
   "source": [
    "MATRIX.shape"
   ]
  },
  {
   "cell_type": "code",
   "execution_count": 39,
   "metadata": {
    "colab": {
     "base_uri": "https://localhost:8080/"
    },
    "id": "kAJcvYY202CY",
    "outputId": "40fb3e64-311c-4303-8421-d08bf93a549c"
   },
   "outputs": [
    {
     "data": {
      "text/plain": [
       "tensor([3, 4])"
      ]
     },
     "execution_count": 39,
     "metadata": {},
     "output_type": "execute_result"
    }
   ],
   "source": [
    "MATRIX[1]"
   ]
  },
  {
   "cell_type": "code",
   "execution_count": 40,
   "metadata": {
    "colab": {
     "base_uri": "https://localhost:8080/"
    },
    "id": "I9FV0f5806aS",
    "outputId": "39daee40-0ff7-4579-c3eb-dce9fcb732a1"
   },
   "outputs": [
    {
     "data": {
      "text/plain": [
       "tensor([[[3, 4],\n",
       "         [4, 5],\n",
       "         [6, 7]]])"
      ]
     },
     "execution_count": 40,
     "metadata": {},
     "output_type": "execute_result"
    }
   ],
   "source": [
    "#tensor\n",
    "TENSORS= torch.tensor([[[3,4],[4,5],[6,7]]])\n",
    "TENSORS"
   ]
  },
  {
   "cell_type": "code",
   "execution_count": 41,
   "metadata": {
    "colab": {
     "base_uri": "https://localhost:8080/"
    },
    "id": "B6Ml3iqg1unT",
    "outputId": "ec882167-d0f8-4ad1-f72a-531e8f72f9e7"
   },
   "outputs": [
    {
     "data": {
      "text/plain": [
       "torch.Size([1, 3, 2])"
      ]
     },
     "execution_count": 41,
     "metadata": {},
     "output_type": "execute_result"
    }
   ],
   "source": [
    "TENSORS.shape"
   ]
  },
  {
   "cell_type": "code",
   "execution_count": 42,
   "metadata": {
    "colab": {
     "base_uri": "https://localhost:8080/"
    },
    "id": "tXsNUh6u1xFj",
    "outputId": "6c59a663-653e-4f2a-adf4-86acd2a4a09a"
   },
   "outputs": [
    {
     "data": {
      "text/plain": [
       "tensor(5)"
      ]
     },
     "execution_count": 42,
     "metadata": {},
     "output_type": "execute_result"
    }
   ],
   "source": [
    "TENSORS[0][1][1]"
   ]
  },
  {
   "cell_type": "markdown",
   "metadata": {
    "id": "anxP0OzG10jl"
   },
   "source": [
    "##Random Tensors\n"
   ]
  },
  {
   "cell_type": "code",
   "execution_count": 43,
   "metadata": {
    "colab": {
     "base_uri": "https://localhost:8080/"
    },
    "id": "npqx1CHT3Yvj",
    "outputId": "7e64df66-01c8-46c9-94d4-4cbf97066ad0"
   },
   "outputs": [
    {
     "data": {
      "text/plain": [
       "tensor([[0.9361, 0.0043, 0.7558, 0.5671],\n",
       "        [0.4206, 0.3839, 0.2213, 0.0882],\n",
       "        [0.0472, 0.0524, 0.6338, 0.6681]])"
      ]
     },
     "execution_count": 43,
     "metadata": {},
     "output_type": "execute_result"
    }
   ],
   "source": [
    "#Create a random tensor of size (3,4)\n",
    "random_tensor=torch.rand(3,4)\n",
    "random_tensor\n"
   ]
  },
  {
   "cell_type": "code",
   "execution_count": 44,
   "metadata": {
    "colab": {
     "base_uri": "https://localhost:8080/"
    },
    "id": "MFy25l5-4kej",
    "outputId": "93f15170-c634-4d4e-c36b-e6887366deb4"
   },
   "outputs": [
    {
     "data": {
      "text/plain": [
       "(torch.Size([224, 224, 3]), 3)"
      ]
     },
     "execution_count": 44,
     "metadata": {},
     "output_type": "execute_result"
    }
   ],
   "source": [
    "#Create a random tensor with similar shape to an image tensor\n",
    "random_image_size_tensor= torch.rand(224,224,3) #height, weight, color channels 3=(R,G,B)\n",
    "random_image_size_tensor.shape, random_image_size_tensor.ndim"
   ]
  },
  {
   "cell_type": "code",
   "execution_count": 45,
   "metadata": {
    "colab": {
     "base_uri": "https://localhost:8080/"
    },
    "id": "a5StQrZGYKN0",
    "outputId": "b4f82972-7f23-4033-d0dd-dd4fc9196c25"
   },
   "outputs": [
    {
     "data": {
      "text/plain": [
       "tensor([[[0.0948, 0.9641],\n",
       "         [0.1888, 0.9266],\n",
       "         [0.8194, 0.2537],\n",
       "         [0.3813, 0.3774]],\n",
       "\n",
       "        [[0.1099, 0.3795],\n",
       "         [0.5236, 0.3768],\n",
       "         [0.4016, 0.7495],\n",
       "         [0.8888, 0.5104]],\n",
       "\n",
       "        [[0.2969, 0.3729],\n",
       "         [0.8364, 0.8682],\n",
       "         [0.3103, 0.9078],\n",
       "         [0.4956, 0.8155]]])"
      ]
     },
     "execution_count": 45,
     "metadata": {},
     "output_type": "execute_result"
    }
   ],
   "source": [
    "random = torch.rand(3,4,2)\n",
    "random"
   ]
  },
  {
   "cell_type": "markdown",
   "metadata": {
    "id": "RBbelxZOAwj6"
   },
   "source": [
    "###Zeroes and ones"
   ]
  },
  {
   "cell_type": "code",
   "execution_count": 46,
   "metadata": {
    "colab": {
     "base_uri": "https://localhost:8080/"
    },
    "id": "Y6usyHHjBGPM",
    "outputId": "424377a6-3361-4581-ef7f-928905ae5bbb"
   },
   "outputs": [
    {
     "data": {
      "text/plain": [
       "(tensor([[0., 0., 0.],\n",
       "         [0., 0., 0.]]),\n",
       " tensor([[1., 1., 1.],\n",
       "         [1., 1., 1.]]))"
      ]
     },
     "execution_count": 46,
     "metadata": {},
     "output_type": "execute_result"
    }
   ],
   "source": [
    "#Create a tensor of all zeroes\n",
    "zero=torch.zeros(2,3)\n",
    "#Create a tensor of all ones\n",
    "ones=torch.ones(2,3)\n",
    "zero,ones"
   ]
  },
  {
   "cell_type": "markdown",
   "metadata": {
    "id": "m-1AjLRWBQRN"
   },
   "source": [
    "###Creating a range of tensors and Tensors-like"
   ]
  },
  {
   "cell_type": "code",
   "execution_count": 47,
   "metadata": {
    "id": "fGZEPCFACT8R"
   },
   "outputs": [
    {
     "data": {
      "text/plain": [
       "tensor([0, 2, 4, 6, 8])"
      ]
     },
     "execution_count": 47,
     "metadata": {},
     "output_type": "execute_result"
    }
   ],
   "source": [
    "a_range=torch.arange(start=0,end=10,step=2)\n",
    "a_range"
   ]
  },
  {
   "cell_type": "code",
   "execution_count": 48,
   "metadata": {
    "id": "ZCnHic_4Ci2q"
   },
   "outputs": [
    {
     "data": {
      "text/plain": [
       "tensor([0, 0, 0, 0, 0])"
      ]
     },
     "execution_count": 48,
     "metadata": {},
     "output_type": "execute_result"
    }
   ],
   "source": [
    "similar_above= torch.zeros_like(a_range)\n",
    "similar_above"
   ]
  },
  {
   "cell_type": "code",
   "execution_count": 49,
   "metadata": {},
   "outputs": [
    {
     "data": {
      "text/plain": [
       "tensor([[3.0000, 4.0000, 5.0000, 6.0000],\n",
       "        [1.2000, 3.4000, 5.5000, 1.4000]])"
      ]
     },
     "execution_count": 49,
     "metadata": {},
     "output_type": "execute_result"
    }
   ],
   "source": [
    "###Tensors Dimensions\n",
    "float_32_tensor=torch.tensor([[3.0,4.0,5.0,6.0],\n",
    "                              [1.2,3.4,5.5,1.4]],\n",
    "                            dtype=torch.float32,\n",
    "                            device=None,\n",
    "                             requires_grad=False)\n",
    "float_32_tensor"
   ]
  },
  {
   "cell_type": "code",
   "execution_count": 50,
   "metadata": {},
   "outputs": [
    {
     "data": {
      "text/plain": [
       "(torch.float32, torch.Size([2, 4]), device(type='cpu'))"
      ]
     },
     "execution_count": 50,
     "metadata": {},
     "output_type": "execute_result"
    }
   ],
   "source": [
    "###Attributes of tensor \n",
    "#Datatype, shape and  device of a tensor\n",
    "float_32_tensor.dtype, float_32_tensor.shape, float_32_tensor.device"
   ]
  },
  {
   "cell_type": "code",
   "execution_count": 51,
   "metadata": {},
   "outputs": [],
   "source": [
    "###Manipulating Tensors\n",
    "#Addition\n",
    "#Substraction\n",
    "#Multiplication (element wise)\n",
    "#Division\n",
    "tensor_1=torch.tensor([[1,2,3,4],\n",
    "                       [2,3,1,3]])\n",
    "tensor_2=torch.tensor([2,3,4,5])"
   ]
  },
  {
   "cell_type": "code",
   "execution_count": 52,
   "metadata": {},
   "outputs": [
    {
     "data": {
      "text/plain": [
       "(tensor([[3, 5, 7, 9],\n",
       "         [4, 6, 5, 8]]),\n",
       " torch.Size([2, 4]),\n",
       " torch.Size([4]))"
      ]
     },
     "execution_count": 52,
     "metadata": {},
     "output_type": "execute_result"
    }
   ],
   "source": [
    "#Addition\n",
    "tensor_1+tensor_2,tensor_1.shape,tensor_2.shape"
   ]
  },
  {
   "cell_type": "code",
   "execution_count": 53,
   "metadata": {},
   "outputs": [
    {
     "data": {
      "text/plain": [
       "(tensor([[ 2,  6, 12, 20],\n",
       "         [ 4,  9,  4, 15]]),\n",
       " tensor([[2.0000, 1.5000, 1.3333, 1.2500],\n",
       "         [1.0000, 1.0000, 4.0000, 1.6667]]))"
      ]
     },
     "execution_count": 53,
     "metadata": {},
     "output_type": "execute_result"
    }
   ],
   "source": [
    "#Multiplication and Division\n",
    "tensor_1*tensor_2, tensor_2/tensor_1"
   ]
  },
  {
   "cell_type": "code",
   "execution_count": 54,
   "metadata": {},
   "outputs": [
    {
     "data": {
      "text/plain": [
       "tensor([40, 32])"
      ]
     },
     "execution_count": 54,
     "metadata": {},
     "output_type": "execute_result"
    }
   ],
   "source": [
    "#Matrix Multiplication\n",
    "#Inner dimensions must match\n",
    "#Resulting matrix has the shape of the outer dimensions\n",
    "torch.matmul(tensor_1,tensor_2)"
   ]
  },
  {
   "cell_type": "code",
   "execution_count": 55,
   "metadata": {},
   "outputs": [
    {
     "data": {
      "text/plain": [
       "tensor([ 8, 13,  9, 17])"
      ]
     },
     "execution_count": 55,
     "metadata": {},
     "output_type": "execute_result"
    }
   ],
   "source": [
    "#Matrix Multiplication by hand\n",
    "value=0\n",
    "for i in range(len(tensor_1)):\n",
    "    value+=tensor_1[i]*tensor_2[i]\n",
    "value"
   ]
  },
  {
   "cell_type": "code",
   "execution_count": null,
   "metadata": {},
   "outputs": [],
   "source": []
  },
  {
   "cell_type": "code",
   "execution_count": null,
   "metadata": {},
   "outputs": [],
   "source": []
  },
  {
   "cell_type": "code",
   "execution_count": 56,
   "metadata": {},
   "outputs": [
    {
     "data": {
      "text/plain": [
       "torch.Size([3, 2])"
      ]
     },
     "execution_count": 56,
     "metadata": {},
     "output_type": "execute_result"
    }
   ],
   "source": [
    "one=torch.tensor([[1,2],\n",
    "                 [3,4],\n",
    "                 [5,7]])\n",
    "one.shape\n"
   ]
  },
  {
   "cell_type": "code",
   "execution_count": null,
   "metadata": {},
   "outputs": [],
   "source": []
  }
 ],
 "metadata": {
  "accelerator": "GPU",
  "colab": {
   "gpuType": "T4",
   "provenance": []
  },
  "kernelspec": {
   "display_name": "Python 3 (ipykernel)",
   "language": "python",
   "name": "python3"
  },
  "language_info": {
   "codemirror_mode": {
    "name": "ipython",
    "version": 3
   },
   "file_extension": ".py",
   "mimetype": "text/x-python",
   "name": "python",
   "nbconvert_exporter": "python",
   "pygments_lexer": "ipython3",
   "version": "3.13.3"
  }
 },
 "nbformat": 4,
 "nbformat_minor": 4
}
