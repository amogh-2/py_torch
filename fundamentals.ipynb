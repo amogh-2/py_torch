{
 "cells": [
  {
   "cell_type": "markdown",
   "metadata": {
    "id": "DgsKBXnntNKM"
   },
   "source": [
    "## 00.Pytorch_Fundamentals"
   ]
  },
  {
   "cell_type": "code",
   "execution_count": 115,
   "metadata": {
    "colab": {
     "base_uri": "https://localhost:8080/"
    },
    "id": "4Dre8YWVsF6g",
    "outputId": "1d3d9df1-d1d9-452d-cb15-0f1da77beb4c"
   },
   "outputs": [
    {
     "name": "stdout",
     "output_type": "stream",
     "text": [
      "2.7.0+cu126\n"
     ]
    }
   ],
   "source": [
    "import torch\n",
    "import pandas as pd\n",
    "import numpy as np\n",
    "import matplotlib.pyplot as plt\n",
    "print(torch.__version__)"
   ]
  },
  {
   "cell_type": "code",
   "execution_count": 116,
   "metadata": {},
   "outputs": [
    {
     "data": {
      "text/plain": [
       "False"
      ]
     },
     "execution_count": 116,
     "metadata": {},
     "output_type": "execute_result"
    }
   ],
   "source": [
    "###Check for GPU access\n",
    "torch.cuda.is_available()"
   ]
  },
  {
   "cell_type": "code",
   "execution_count": 167,
   "metadata": {},
   "outputs": [
    {
     "data": {
      "text/plain": [
       "'cpu'"
      ]
     },
     "execution_count": 167,
     "metadata": {},
     "output_type": "execute_result"
    }
   ],
   "source": [
    "device_to_use= 'cuda' if torch.cuda.is_available() else 'cpu'\n",
    "device_to_use"
   ]
  },
  {
   "cell_type": "code",
   "execution_count": 169,
   "metadata": {},
   "outputs": [
    {
     "name": "stdout",
     "output_type": "stream",
     "text": [
      "cpu\n"
     ]
    }
   ],
   "source": [
    "tensor=torch.tensor([1,2,3])\n",
    "print(tensor.device)\n",
    "tensor=tensor.to(device_to_use)\n"
   ]
  },
  {
   "cell_type": "markdown",
   "metadata": {
    "id": "2L5KLY-6sMET"
   },
   "source": [
    "#Introduction to a Tensors\n",
    "\n",
    "#Creating Tensors\n",
    "\n",
    "Pytorch Tensors are created using torch.tensor()\n",
    "\n"
   ]
  },
  {
   "cell_type": "markdown",
   "metadata": {},
   "source": []
  },
  {
   "cell_type": "code",
   "execution_count": 118,
   "metadata": {
    "colab": {
     "base_uri": "https://localhost:8080/"
    },
    "id": "Qa17rr32w_e2",
    "outputId": "bf9b697b-159b-4f53-b846-e98f292f19a4"
   },
   "outputs": [
    {
     "data": {
      "text/plain": [
       "0"
      ]
     },
     "execution_count": 118,
     "metadata": {},
     "output_type": "execute_result"
    }
   ],
   "source": [
    "#scalar\n",
    "scalar=torch.tensor(7)\n",
    "scalar\n",
    "scalar.ndim\n"
   ]
  },
  {
   "cell_type": "code",
   "execution_count": 119,
   "metadata": {
    "colab": {
     "base_uri": "https://localhost:8080/"
    },
    "id": "YlzxzyodxmHm",
    "outputId": "8ef5cae7-4edd-4437-8655-63655b329ad0"
   },
   "outputs": [
    {
     "data": {
      "text/plain": [
       "7"
      ]
     },
     "execution_count": 119,
     "metadata": {},
     "output_type": "execute_result"
    }
   ],
   "source": [
    "#Get tensor back as int\n",
    "scalar.item()"
   ]
  },
  {
   "cell_type": "code",
   "execution_count": 120,
   "metadata": {
    "colab": {
     "base_uri": "https://localhost:8080/"
    },
    "id": "FexI3Mpcy_A6",
    "outputId": "863a474d-2f50-4edc-9edb-8878e3233553"
   },
   "outputs": [
    {
     "data": {
      "text/plain": [
       "tensor([5, 3, 3])"
      ]
     },
     "execution_count": 120,
     "metadata": {},
     "output_type": "execute_result"
    }
   ],
   "source": [
    "#vector\n",
    "vector=torch.tensor([5,3,3])\n",
    "vector"
   ]
  },
  {
   "cell_type": "code",
   "execution_count": 121,
   "metadata": {
    "colab": {
     "base_uri": "https://localhost:8080/"
    },
    "id": "nH3xh55uzpCh",
    "outputId": "4b619511-2f97-49bf-a16c-b70936050a54"
   },
   "outputs": [
    {
     "data": {
      "text/plain": [
       "1"
      ]
     },
     "execution_count": 121,
     "metadata": {},
     "output_type": "execute_result"
    }
   ],
   "source": [
    "vector.ndim"
   ]
  },
  {
   "cell_type": "code",
   "execution_count": 122,
   "metadata": {
    "colab": {
     "base_uri": "https://localhost:8080/"
    },
    "id": "ZZmXPdy5zw6y",
    "outputId": "470157fc-195c-4284-81d6-c37092d3d0f1"
   },
   "outputs": [
    {
     "data": {
      "text/plain": [
       "torch.Size([3])"
      ]
     },
     "execution_count": 122,
     "metadata": {},
     "output_type": "execute_result"
    }
   ],
   "source": [
    "vector.shape"
   ]
  },
  {
   "cell_type": "code",
   "execution_count": 123,
   "metadata": {
    "colab": {
     "base_uri": "https://localhost:8080/"
    },
    "id": "QJvDef8ez1Zr",
    "outputId": "c2266a04-06d6-42b5-f7f3-9237d25e9b49"
   },
   "outputs": [
    {
     "data": {
      "text/plain": [
       "tensor([[1, 2],\n",
       "        [3, 4]])"
      ]
     },
     "execution_count": 123,
     "metadata": {},
     "output_type": "execute_result"
    }
   ],
   "source": [
    "#matrix\n",
    "MATRIX=torch.tensor([[1,2],[3,4]])\n",
    "MATRIX"
   ]
  },
  {
   "cell_type": "code",
   "execution_count": 124,
   "metadata": {
    "colab": {
     "base_uri": "https://localhost:8080/"
    },
    "id": "IiIxS9xa0amb",
    "outputId": "591dd3ee-3b69-4531-a96f-9aae2ad01702"
   },
   "outputs": [
    {
     "data": {
      "text/plain": [
       "torch.Size([2, 2])"
      ]
     },
     "execution_count": 124,
     "metadata": {},
     "output_type": "execute_result"
    }
   ],
   "source": [
    "MATRIX.shape"
   ]
  },
  {
   "cell_type": "code",
   "execution_count": 125,
   "metadata": {
    "colab": {
     "base_uri": "https://localhost:8080/"
    },
    "id": "kAJcvYY202CY",
    "outputId": "40fb3e64-311c-4303-8421-d08bf93a549c"
   },
   "outputs": [
    {
     "data": {
      "text/plain": [
       "tensor([3, 4])"
      ]
     },
     "execution_count": 125,
     "metadata": {},
     "output_type": "execute_result"
    }
   ],
   "source": [
    "MATRIX[1]"
   ]
  },
  {
   "cell_type": "code",
   "execution_count": 126,
   "metadata": {
    "colab": {
     "base_uri": "https://localhost:8080/"
    },
    "id": "I9FV0f5806aS",
    "outputId": "39daee40-0ff7-4579-c3eb-dce9fcb732a1"
   },
   "outputs": [
    {
     "data": {
      "text/plain": [
       "tensor([[[3, 4],\n",
       "         [4, 5],\n",
       "         [6, 7]]])"
      ]
     },
     "execution_count": 126,
     "metadata": {},
     "output_type": "execute_result"
    }
   ],
   "source": [
    "#tensor\n",
    "TENSORS= torch.tensor([[[3,4],[4,5],[6,7]]])\n",
    "TENSORS"
   ]
  },
  {
   "cell_type": "code",
   "execution_count": 127,
   "metadata": {
    "colab": {
     "base_uri": "https://localhost:8080/"
    },
    "id": "B6Ml3iqg1unT",
    "outputId": "ec882167-d0f8-4ad1-f72a-531e8f72f9e7"
   },
   "outputs": [
    {
     "data": {
      "text/plain": [
       "torch.Size([1, 3, 2])"
      ]
     },
     "execution_count": 127,
     "metadata": {},
     "output_type": "execute_result"
    }
   ],
   "source": [
    "TENSORS.shape"
   ]
  },
  {
   "cell_type": "code",
   "execution_count": 128,
   "metadata": {
    "colab": {
     "base_uri": "https://localhost:8080/"
    },
    "id": "tXsNUh6u1xFj",
    "outputId": "6c59a663-653e-4f2a-adf4-86acd2a4a09a"
   },
   "outputs": [
    {
     "data": {
      "text/plain": [
       "tensor(5)"
      ]
     },
     "execution_count": 128,
     "metadata": {},
     "output_type": "execute_result"
    }
   ],
   "source": [
    "TENSORS[0][1][1]"
   ]
  },
  {
   "cell_type": "markdown",
   "metadata": {
    "id": "anxP0OzG10jl"
   },
   "source": [
    "##Random Tensors\n"
   ]
  },
  {
   "cell_type": "code",
   "execution_count": 129,
   "metadata": {
    "colab": {
     "base_uri": "https://localhost:8080/"
    },
    "id": "npqx1CHT3Yvj",
    "outputId": "7e64df66-01c8-46c9-94d4-4cbf97066ad0"
   },
   "outputs": [
    {
     "data": {
      "text/plain": [
       "tensor([[0.2566, 0.7936, 0.9408, 0.1332],\n",
       "        [0.9346, 0.5936, 0.8694, 0.5677],\n",
       "        [0.7411, 0.4294, 0.8854, 0.5739]])"
      ]
     },
     "execution_count": 129,
     "metadata": {},
     "output_type": "execute_result"
    }
   ],
   "source": [
    "#Create a random tensor of size (3,4)\n",
    "random_tensor=torch.rand(3,4)\n",
    "random_tensor\n"
   ]
  },
  {
   "cell_type": "code",
   "execution_count": 130,
   "metadata": {
    "colab": {
     "base_uri": "https://localhost:8080/"
    },
    "id": "MFy25l5-4kej",
    "outputId": "93f15170-c634-4d4e-c36b-e6887366deb4"
   },
   "outputs": [
    {
     "data": {
      "text/plain": [
       "(torch.Size([224, 224, 3]), 3)"
      ]
     },
     "execution_count": 130,
     "metadata": {},
     "output_type": "execute_result"
    }
   ],
   "source": [
    "#Create a random tensor with similar shape to an image tensor\n",
    "random_image_size_tensor= torch.rand(224,224,3) #height, weight, color channels 3=(R,G,B)\n",
    "random_image_size_tensor.shape, random_image_size_tensor.ndim"
   ]
  },
  {
   "cell_type": "code",
   "execution_count": 131,
   "metadata": {
    "colab": {
     "base_uri": "https://localhost:8080/"
    },
    "id": "a5StQrZGYKN0",
    "outputId": "b4f82972-7f23-4033-d0dd-dd4fc9196c25"
   },
   "outputs": [
    {
     "data": {
      "text/plain": [
       "tensor([[[0.8016, 0.3649],\n",
       "         [0.6286, 0.9663],\n",
       "         [0.7687, 0.4566],\n",
       "         [0.5745, 0.9200]],\n",
       "\n",
       "        [[0.3230, 0.8613],\n",
       "         [0.0919, 0.3102],\n",
       "         [0.9536, 0.6002],\n",
       "         [0.0351, 0.6826]],\n",
       "\n",
       "        [[0.3743, 0.5220],\n",
       "         [0.1336, 0.9666],\n",
       "         [0.9754, 0.8474],\n",
       "         [0.8988, 0.1105]]])"
      ]
     },
     "execution_count": 131,
     "metadata": {},
     "output_type": "execute_result"
    }
   ],
   "source": [
    "random = torch.rand(3,4,2)\n",
    "random"
   ]
  },
  {
   "cell_type": "markdown",
   "metadata": {
    "id": "RBbelxZOAwj6"
   },
   "source": [
    "###Zeroes and ones"
   ]
  },
  {
   "cell_type": "code",
   "execution_count": 132,
   "metadata": {
    "colab": {
     "base_uri": "https://localhost:8080/"
    },
    "id": "Y6usyHHjBGPM",
    "outputId": "424377a6-3361-4581-ef7f-928905ae5bbb"
   },
   "outputs": [
    {
     "data": {
      "text/plain": [
       "(tensor([[0., 0., 0.],\n",
       "         [0., 0., 0.]]),\n",
       " tensor([[1., 1., 1.],\n",
       "         [1., 1., 1.]]))"
      ]
     },
     "execution_count": 132,
     "metadata": {},
     "output_type": "execute_result"
    }
   ],
   "source": [
    "#Create a tensor of all zeroes\n",
    "zero=torch.zeros(2,3)\n",
    "#Create a tensor of all ones\n",
    "ones=torch.ones(2,3)\n",
    "zero,ones"
   ]
  },
  {
   "cell_type": "markdown",
   "metadata": {
    "id": "m-1AjLRWBQRN"
   },
   "source": [
    "###Creating a range of tensors and Tensors-like"
   ]
  },
  {
   "cell_type": "code",
   "execution_count": 133,
   "metadata": {
    "id": "fGZEPCFACT8R"
   },
   "outputs": [
    {
     "data": {
      "text/plain": [
       "tensor([0, 2, 4, 6, 8])"
      ]
     },
     "execution_count": 133,
     "metadata": {},
     "output_type": "execute_result"
    }
   ],
   "source": [
    "a_range=torch.arange(start=0,end=10,step=2)\n",
    "a_range"
   ]
  },
  {
   "cell_type": "code",
   "execution_count": 134,
   "metadata": {
    "id": "ZCnHic_4Ci2q"
   },
   "outputs": [
    {
     "data": {
      "text/plain": [
       "tensor([0, 0, 0, 0, 0])"
      ]
     },
     "execution_count": 134,
     "metadata": {},
     "output_type": "execute_result"
    }
   ],
   "source": [
    "similar_above= torch.zeros_like(a_range)\n",
    "similar_above"
   ]
  },
  {
   "cell_type": "code",
   "execution_count": 135,
   "metadata": {},
   "outputs": [
    {
     "data": {
      "text/plain": [
       "tensor([[3.0000, 4.0000, 5.0000, 6.0000],\n",
       "        [1.2000, 3.4000, 5.5000, 1.4000]])"
      ]
     },
     "execution_count": 135,
     "metadata": {},
     "output_type": "execute_result"
    }
   ],
   "source": [
    "###Tensors Dimensions\n",
    "float_32_tensor=torch.tensor([[3.0,4.0,5.0,6.0],\n",
    "                              [1.2,3.4,5.5,1.4]],\n",
    "                            dtype=torch.float32,\n",
    "                            device=None,\n",
    "                             requires_grad=False)\n",
    "float_32_tensor"
   ]
  },
  {
   "cell_type": "code",
   "execution_count": 136,
   "metadata": {},
   "outputs": [
    {
     "data": {
      "text/plain": [
       "(torch.float32, torch.Size([2, 4]), device(type='cpu'))"
      ]
     },
     "execution_count": 136,
     "metadata": {},
     "output_type": "execute_result"
    }
   ],
   "source": [
    "###Attributes of tensor \n",
    "#Datatype, shape and  device of a tensor\n",
    "float_32_tensor.dtype, float_32_tensor.shape, float_32_tensor.device"
   ]
  },
  {
   "cell_type": "code",
   "execution_count": 137,
   "metadata": {},
   "outputs": [],
   "source": [
    "###Manipulating Tensors\n",
    "#Addition\n",
    "#Substraction\n",
    "#Multiplication (element wise)\n",
    "#Division\n",
    "tensor_1=torch.tensor([[1,2,3,4],\n",
    "                       [2,3,1,3]])\n",
    "tensor_2=torch.tensor([2,3,4,5])"
   ]
  },
  {
   "cell_type": "code",
   "execution_count": 138,
   "metadata": {},
   "outputs": [
    {
     "data": {
      "text/plain": [
       "(tensor([[3, 5, 7, 9],\n",
       "         [4, 6, 5, 8]]),\n",
       " torch.Size([2, 4]),\n",
       " torch.Size([4]))"
      ]
     },
     "execution_count": 138,
     "metadata": {},
     "output_type": "execute_result"
    }
   ],
   "source": [
    "#Addition\n",
    "tensor_1+tensor_2,tensor_1.shape,tensor_2.shape"
   ]
  },
  {
   "cell_type": "code",
   "execution_count": 139,
   "metadata": {},
   "outputs": [
    {
     "data": {
      "text/plain": [
       "(tensor([[ 2,  6, 12, 20],\n",
       "         [ 4,  9,  4, 15]]),\n",
       " tensor([[2.0000, 1.5000, 1.3333, 1.2500],\n",
       "         [1.0000, 1.0000, 4.0000, 1.6667]]))"
      ]
     },
     "execution_count": 139,
     "metadata": {},
     "output_type": "execute_result"
    }
   ],
   "source": [
    "#Multiplication and Division\n",
    "tensor_1*tensor_2, tensor_2/tensor_1"
   ]
  },
  {
   "cell_type": "code",
   "execution_count": 140,
   "metadata": {},
   "outputs": [
    {
     "data": {
      "text/plain": [
       "tensor([40, 32])"
      ]
     },
     "execution_count": 140,
     "metadata": {},
     "output_type": "execute_result"
    }
   ],
   "source": [
    "#Matrix Multiplication\n",
    "#Inner dimensions must match\n",
    "#Resulting matrix has the shape of the outer dimensions\n",
    "torch.matmul(tensor_1,tensor_2)"
   ]
  },
  {
   "cell_type": "code",
   "execution_count": 141,
   "metadata": {},
   "outputs": [
    {
     "data": {
      "text/plain": [
       "tensor([ 8, 13,  9, 17])"
      ]
     },
     "execution_count": 141,
     "metadata": {},
     "output_type": "execute_result"
    }
   ],
   "source": [
    "#Matrix Multiplication by hand\n",
    "value=0\n",
    "for i in range(len(tensor_1)):\n",
    "    value+=tensor_1[i]*tensor_2[i]\n",
    "value"
   ]
  },
  {
   "cell_type": "code",
   "execution_count": 142,
   "metadata": {},
   "outputs": [
    {
     "data": {
      "text/plain": [
       "torch.Size([3, 2])"
      ]
     },
     "execution_count": 142,
     "metadata": {},
     "output_type": "execute_result"
    }
   ],
   "source": [
    "tensor_a=torch.tensor([[1,2],\n",
    "                 [3,4],\n",
    "                 [5,7]])\n",
    "tensor_a.shape\n"
   ]
  },
  {
   "cell_type": "code",
   "execution_count": 143,
   "metadata": {},
   "outputs": [
    {
     "data": {
      "text/plain": [
       "(tensor([[1, 3, 5],\n",
       "         [2, 4, 7]]),\n",
       " torch.Size([2, 3]))"
      ]
     },
     "execution_count": 143,
     "metadata": {},
     "output_type": "execute_result"
    }
   ],
   "source": [
    "###To solve the tensor shape issue. We can Transpose one of the tensors\n",
    "##A Transpose switches the axes and dimensions of a tensor\n",
    "tensor_a.T,tensor_a.T.shape"
   ]
  },
  {
   "cell_type": "markdown",
   "metadata": {},
   "source": [
    "###Finding the min, max, mean, sum, e.t.c (Tensor aggregation)"
   ]
  },
  {
   "cell_type": "code",
   "execution_count": 144,
   "metadata": {},
   "outputs": [],
   "source": [
    "#Create a Tensor\n",
    "x=torch.tensor([3,4,8,1])"
   ]
  },
  {
   "cell_type": "code",
   "execution_count": 145,
   "metadata": {},
   "outputs": [
    {
     "data": {
      "text/plain": [
       "(tensor(1), tensor(8))"
      ]
     },
     "execution_count": 145,
     "metadata": {},
     "output_type": "execute_result"
    }
   ],
   "source": [
    "#Find the min and max\n",
    "x.min(), x.max()"
   ]
  },
  {
   "cell_type": "code",
   "execution_count": 146,
   "metadata": {},
   "outputs": [
    {
     "data": {
      "text/plain": [
       "tensor(4.)"
      ]
     },
     "execution_count": 146,
     "metadata": {},
     "output_type": "execute_result"
    }
   ],
   "source": [
    "#Find the mean\n",
    "torch.mean(x,dtype=torch.float32)"
   ]
  },
  {
   "cell_type": "code",
   "execution_count": 147,
   "metadata": {},
   "outputs": [
    {
     "data": {
      "text/plain": [
       "tensor(16)"
      ]
     },
     "execution_count": 147,
     "metadata": {},
     "output_type": "execute_result"
    }
   ],
   "source": [
    "#Find the sum\n",
    "x.sum()"
   ]
  },
  {
   "cell_type": "markdown",
   "metadata": {},
   "source": [
    "##Position at which min and max"
   ]
  },
  {
   "cell_type": "code",
   "execution_count": 148,
   "metadata": {},
   "outputs": [
    {
     "data": {
      "text/plain": [
       "(tensor(3), tensor(2))"
      ]
     },
     "execution_count": 148,
     "metadata": {},
     "output_type": "execute_result"
    }
   ],
   "source": [
    "x.argmin(),x.argmax()"
   ]
  },
  {
   "cell_type": "markdown",
   "metadata": {},
   "source": [
    "##Reshaping, Stacking, Squeezing and Unsqueezing tensors\n",
    "\n",
    "*Reshaping- reshapes an input tensor to a defined shape\n",
    "\n",
    "*view- return the view of an input tensor of certain shape but keep the same memory as original tensor\n",
    "\n",
    "*stacking- combines multiple tensors on top of each other (vstack) or side by side (hstack)\n",
    "\n",
    "*squeeze- removes all one dimensions from a tensor\n",
    "\n",
    "*unsqueeze- adds a one dimensions from a targer tensor\n",
    "\n",
    "*permute- return a view of the input with dimensions permuted (swapped) in a certain way"
   ]
  },
  {
   "cell_type": "code",
   "execution_count": 149,
   "metadata": {},
   "outputs": [
    {
     "data": {
      "text/plain": [
       "tensor([ 1,  2,  3,  4,  5,  6,  7,  8,  9, 10])"
      ]
     },
     "execution_count": 149,
     "metadata": {},
     "output_type": "execute_result"
    }
   ],
   "source": [
    "#Create a tensor\n",
    "x=torch.arange(1,11)\n",
    "x"
   ]
  },
  {
   "cell_type": "code",
   "execution_count": 150,
   "metadata": {},
   "outputs": [
    {
     "data": {
      "text/plain": [
       "tensor([[ 1,  2,  3,  4,  5],\n",
       "        [ 6,  7,  8,  9, 10]])"
      ]
     },
     "execution_count": 150,
     "metadata": {},
     "output_type": "execute_result"
    }
   ],
   "source": [
    "#Reshape\n",
    "reshaped_x=x.reshape(2,5)\n",
    "reshaped_x"
   ]
  },
  {
   "cell_type": "code",
   "execution_count": 151,
   "metadata": {},
   "outputs": [
    {
     "data": {
      "text/plain": [
       "tensor([[ 1,  2,  3,  4,  5],\n",
       "        [ 6,  7,  8,  9, 10]])"
      ]
     },
     "execution_count": 151,
     "metadata": {},
     "output_type": "execute_result"
    }
   ],
   "source": [
    "#Change the view\n",
    "z=x.view(2,5)\n",
    "z"
   ]
  },
  {
   "cell_type": "code",
   "execution_count": 152,
   "metadata": {},
   "outputs": [
    {
     "data": {
      "text/plain": [
       "(tensor([[ 1,  2,  3,  4,  5],\n",
       "         [ 6,  7,  8,  9, 10]]),\n",
       " tensor([[ 1,  2,  3,  4,  5,  6,  7,  8,  9, 10]]))"
      ]
     },
     "execution_count": 152,
     "metadata": {},
     "output_type": "execute_result"
    }
   ],
   "source": [
    "#While changing dim with view changing z changes x aswell. Eg:\n",
    "z[:0]= 5\n",
    "z,x.reshape(1,10)"
   ]
  },
  {
   "cell_type": "code",
   "execution_count": 153,
   "metadata": {},
   "outputs": [
    {
     "data": {
      "text/plain": [
       "tensor([[ 1,  1,  1],\n",
       "        [ 2,  2,  2],\n",
       "        [ 3,  3,  3],\n",
       "        [ 4,  4,  4],\n",
       "        [ 5,  5,  5],\n",
       "        [ 6,  6,  6],\n",
       "        [ 7,  7,  7],\n",
       "        [ 8,  8,  8],\n",
       "        [ 9,  9,  9],\n",
       "        [10, 10, 10]])"
      ]
     },
     "execution_count": 153,
     "metadata": {},
     "output_type": "execute_result"
    }
   ],
   "source": [
    "###Stack tensors on top of each other\n",
    "x_stacked=torch.stack([x,x,x],dim=1)\n",
    "x_stacked   \n"
   ]
  },
  {
   "cell_type": "code",
   "execution_count": 154,
   "metadata": {},
   "outputs": [
    {
     "data": {
      "text/plain": [
       "(torch.Size([1, 2, 3, 2]), torch.Size([2, 3, 2]))"
      ]
     },
     "execution_count": 154,
     "metadata": {},
     "output_type": "execute_result"
    }
   ],
   "source": [
    "###Squeeze Tensors\n",
    "x=torch.zeros(1,2,3,2)\n",
    "y=torch.squeeze(x)\n",
    "x.size(),y.size()\n"
   ]
  },
  {
   "cell_type": "code",
   "execution_count": 155,
   "metadata": {},
   "outputs": [
    {
     "name": "stdout",
     "output_type": "stream",
     "text": [
      "torch.Size([1, 2, 3]) torch.Size([2, 3])\n",
      "tensor([[0.4563, 0.9719, 0.3968],\n",
      "        [0.1496, 0.4743, 0.9973]]) \n",
      " tensor([[[0.4563, 0.9719, 0.3968],\n",
      "         [0.1496, 0.4743, 0.9973]]])\n"
     ]
    }
   ],
   "source": [
    "###Unsqueeze Tensors\n",
    "x=torch.rand(2,3)\n",
    "y=torch.unsqueeze(x, dim=0)\n",
    "print(y.size(),x.size())\n",
    "print(x,\"\\n\",y)\n"
   ]
  },
  {
   "cell_type": "code",
   "execution_count": 156,
   "metadata": {},
   "outputs": [
    {
     "name": "stdout",
     "output_type": "stream",
     "text": [
      "torch.Size([1, 2, 3])\n"
     ]
    },
    {
     "data": {
      "text/plain": [
       "torch.Size([2, 1, 3])"
      ]
     },
     "execution_count": 156,
     "metadata": {},
     "output_type": "execute_result"
    }
   ],
   "source": [
    "###Permute Tensors\n",
    "x=torch.rand(2,1,3)\n",
    "print(torch.permute(x, (1,0,2)).shape) ### the values in the bracket are indexes of x. Permute puts x[1] in x[0], x[0] in x[2]\n",
    "x.shape"
   ]
  },
  {
   "cell_type": "code",
   "execution_count": 157,
   "metadata": {},
   "outputs": [
    {
     "name": "stdout",
     "output_type": "stream",
     "text": [
      "torch.Size([224, 224, 3]) torch.Size([3, 224, 224])\n"
     ]
    }
   ],
   "source": [
    "#Eg of permute:\n",
    "x=torch.rand(224,224,3) #[height, width, color channels]\n",
    "x_permuted=torch.permute(x,(2,0,1))\n",
    "print(x.shape,\n",
    "      x_permuted.shape)"
   ]
  },
  {
   "cell_type": "code",
   "execution_count": 158,
   "metadata": {},
   "outputs": [
    {
     "data": {
      "text/plain": [
       "tensor(5.)"
      ]
     },
     "execution_count": 158,
     "metadata": {},
     "output_type": "execute_result"
    }
   ],
   "source": [
    "x[0,0,0]=5\n",
    "x[0,0,0]"
   ]
  },
  {
   "cell_type": "markdown",
   "metadata": {},
   "source": [
    "###Indexing (Selecting data from Tensors)"
   ]
  },
  {
   "cell_type": "code",
   "execution_count": 159,
   "metadata": {},
   "outputs": [
    {
     "data": {
      "text/plain": [
       "(tensor([[[1., 2., 3.],\n",
       "          [4., 5., 6.],\n",
       "          [7., 8., 9.]]]),\n",
       " torch.Size([1, 3, 3]))"
      ]
     },
     "execution_count": 159,
     "metadata": {},
     "output_type": "execute_result"
    }
   ],
   "source": [
    "#Create a Tensor\n",
    "x=torch.arange(1.0,10.0).reshape(1,3,3)\n",
    "x,x.shape"
   ]
  },
  {
   "cell_type": "code",
   "execution_count": 160,
   "metadata": {},
   "outputs": [
    {
     "name": "stdout",
     "output_type": "stream",
     "text": [
      "tensor(8.) tensor(8.)\n",
      "tensor([[2.],\n",
      "        [5.],\n",
      "        [8.]])\n"
     ]
    },
    {
     "data": {
      "text/plain": [
       "tensor([[3., 6., 9.]])"
      ]
     },
     "execution_count": 160,
     "metadata": {},
     "output_type": "execute_result"
    }
   ],
   "source": [
    "print(x[0][2][1],x[0,2,1])\n",
    "print(x[:,:,1].reshape(3,1))#print 0th value of all dimensions\n",
    "#To return 3,6,9\n",
    "x[:,:,2]"
   ]
  },
  {
   "cell_type": "markdown",
   "metadata": {},
   "source": [
    "###Pytorch Tensors and Numpy"
   ]
  },
  {
   "cell_type": "code",
   "execution_count": 161,
   "metadata": {},
   "outputs": [
    {
     "data": {
      "text/plain": [
       "(dtype('float64'), torch.float32, torch.float32)"
      ]
     },
     "execution_count": 161,
     "metadata": {},
     "output_type": "execute_result"
    }
   ],
   "source": [
    "#Data from NumPy to Pytorch Tensors\n",
    "x_np=np.arange(1.0,8,2)\n",
    "x_tensor=torch.from_numpy(x_np).type(torch.float32)\n",
    "x_np.dtype,x_tensor.dtype,x.dtype #numpy's default data type is float 64, tensor's is float32"
   ]
  },
  {
   "cell_type": "code",
   "execution_count": 162,
   "metadata": {},
   "outputs": [
    {
     "data": {
      "text/plain": [
       "(tensor([1, 1, 1, 1], dtype=torch.int32), array([1, 1, 1, 1], dtype=int32))"
      ]
     },
     "execution_count": 162,
     "metadata": {},
     "output_type": "execute_result"
    }
   ],
   "source": [
    "#Data from Pytorch Tensors to NumPy \n",
    "y_tensor=torch.ones(4,dtype=torch.int32)\n",
    "y_np=y_tensor.numpy()\n",
    "y_tensor,y_np"
   ]
  },
  {
   "cell_type": "markdown",
   "metadata": {},
   "source": [
    "###Reproducibility (Trying to take random out of random) "
   ]
  },
  {
   "cell_type": "code",
   "execution_count": 163,
   "metadata": {},
   "outputs": [
    {
     "data": {
      "text/plain": [
       "(tensor([[0.2313, 0.2927],\n",
       "         [0.3386, 0.3708],\n",
       "         [0.0831, 0.0944]]),\n",
       " tensor([[0.6568, 0.7708],\n",
       "         [0.1053, 0.1467],\n",
       "         [0.1932, 0.9118]]))"
      ]
     },
     "execution_count": 163,
     "metadata": {},
     "output_type": "execute_result"
    }
   ],
   "source": [
    "#Create two random Tensors\n",
    "random_x=torch.rand(3,2)\n",
    "random_y=torch.rand(3,2)\n",
    "random_x,random_y"
   ]
  },
  {
   "cell_type": "code",
   "execution_count": 164,
   "metadata": {},
   "outputs": [
    {
     "name": "stdout",
     "output_type": "stream",
     "text": [
      "tensor([[0.8823, 0.9150],\n",
      "        [0.3829, 0.9593],\n",
      "        [0.3904, 0.6009]]) \n",
      " tensor([[0.8823, 0.9150],\n",
      "        [0.3829, 0.9593],\n",
      "        [0.3904, 0.6009]])\n",
      "tensor([[True, True],\n",
      "        [True, True],\n",
      "        [True, True]])\n"
     ]
    }
   ],
   "source": [
    "#Set random seed\n",
    "RANDOM_SEED=42\n",
    "torch.manual_seed(RANDOM_SEED)\n",
    "RANDOM_SEED=42\n",
    "random_x=torch.rand(3,2)\n",
    "torch.manual_seed(RANDOM_SEED)\n",
    "random_y=torch.rand(3,2)\n",
    "print(random_x,'\\n',random_y)\n",
    "print(random_x==random_y)\n"
   ]
  }
 ],
 "metadata": {
  "accelerator": "GPU",
  "colab": {
   "gpuType": "T4",
   "provenance": []
  },
  "kernelspec": {
   "display_name": "ai_venv",
   "language": "python",
   "name": "python3"
  },
  "language_info": {
   "codemirror_mode": {
    "name": "ipython",
    "version": 3
   },
   "file_extension": ".py",
   "mimetype": "text/x-python",
   "name": "python",
   "nbconvert_exporter": "python",
   "pygments_lexer": "ipython3",
   "version": "3.13.3"
  }
 },
 "nbformat": 4,
 "nbformat_minor": 4
}
