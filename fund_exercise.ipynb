{
 "cells": [
  {
   "cell_type": "code",
   "execution_count": 2,
   "id": "af81f83a",
   "metadata": {},
   "outputs": [],
   "source": [
    "import torch"
   ]
  },
  {
   "cell_type": "code",
   "execution_count": 15,
   "id": "f59c0ac2",
   "metadata": {},
   "outputs": [
    {
     "data": {
      "text/plain": [
       "tensor([[3.2618],\n",
       "        [3.4084],\n",
       "        [2.4866],\n",
       "        [1.4525],\n",
       "        [1.7079],\n",
       "        [2.7291],\n",
       "        [2.9204]])"
      ]
     },
     "execution_count": 15,
     "metadata": {},
     "output_type": "execute_result"
    }
   ],
   "source": [
    "###Create a random tensor, Transpose and matrix multiply\n",
    "RANDOM_SEED=42\n",
    "torch.manual_seed(RANDOM_SEED)\n",
    "tensor_1=torch.rand(7,7)\n",
    "torch.manual_seed(RANDOM_SEED)\n",
    "tensor_2=torch.rand(1,7)\n",
    "tensor_2_t=tensor_2.reshape(7,1)\n",
    "torch.matmul(tensor_1,tensor_2_t)"
   ]
  },
  {
   "cell_type": "code",
   "execution_count": 16,
   "id": "2940ef35",
   "metadata": {},
   "outputs": [
    {
     "data": {
      "text/plain": [
       "(tensor([[0.8823, 0.9150, 0.3829, 0.9593, 0.3904, 0.6009, 0.2566]]),\n",
       " tensor([[0.8823],\n",
       "         [0.9150],\n",
       "         [0.3829],\n",
       "         [0.9593],\n",
       "         [0.3904],\n",
       "         [0.6009],\n",
       "         [0.2566]]))"
      ]
     },
     "execution_count": 16,
     "metadata": {},
     "output_type": "execute_result"
    }
   ],
   "source": [
    "tensor_2,tensor_2_t"
   ]
  }
 ],
 "metadata": {
  "kernelspec": {
   "display_name": "ai_venv",
   "language": "python",
   "name": "python3"
  },
  "language_info": {
   "codemirror_mode": {
    "name": "ipython",
    "version": 3
   },
   "file_extension": ".py",
   "mimetype": "text/x-python",
   "name": "python",
   "nbconvert_exporter": "python",
   "pygments_lexer": "ipython3",
   "version": "3.13.3"
  }
 },
 "nbformat": 4,
 "nbformat_minor": 5
}
