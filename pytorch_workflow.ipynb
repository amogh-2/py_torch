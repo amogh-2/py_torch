{
 "cells": [
  {
   "cell_type": "code",
   "execution_count": 1,
   "id": "742e1b1e",
   "metadata": {},
   "outputs": [],
   "source": [
    "import torch\n",
    "from  torch import nn\n",
    "import matplotlib.pyplot as plt\n"
   ]
  },
  {
   "cell_type": "code",
   "execution_count": 2,
   "id": "276178ae",
   "metadata": {},
   "outputs": [
    {
     "data": {
      "text/plain": [
       "{1: 'data(prepare and load)',\n",
       " 2: 'build model',\n",
       " 3: 'fitting the model to data (training)',\n",
       " 4: 'making predictions and evaluating a model (inference)',\n",
       " 5: 'saving and loading a model',\n",
       " 6: 'putting it all together'}"
      ]
     },
     "execution_count": 2,
     "metadata": {},
     "output_type": "execute_result"
    }
   ],
   "source": [
    "covering={1:\"data(prepare and load)\",\n",
    "          2:\"build model\",\n",
    "          3:\"fitting the model to data (training)\",\n",
    "          4:\"making predictions and evaluating a model (inference)\",\n",
    "          5:\"saving and loading a model\",\n",
    "          6:\"putting it all together\"\n",
    "          }\n",
    "covering"
   ]
  },
  {
   "cell_type": "markdown",
   "id": "59d549e5",
   "metadata": {},
   "source": [
    "###Data (Preparing and Loading)\n",
    "\n",
    "*Get data into numerical representation\n",
    "\n",
    "*Build a model to learn patterns in that numerical representation "
   ]
  },
  {
   "cell_type": "code",
   "execution_count": 3,
   "id": "3f211b28",
   "metadata": {},
   "outputs": [
    {
     "data": {
      "text/plain": [
       "(tensor([[0.0000],\n",
       "         [0.0200],\n",
       "         [0.0400],\n",
       "         [0.0600],\n",
       "         [0.0800],\n",
       "         [0.1000],\n",
       "         [0.1200],\n",
       "         [0.1400],\n",
       "         [0.1600],\n",
       "         [0.1800]]),\n",
       " tensor([[0.3000],\n",
       "         [0.3140],\n",
       "         [0.3280],\n",
       "         [0.3420],\n",
       "         [0.3560],\n",
       "         [0.3700],\n",
       "         [0.3840],\n",
       "         [0.3980],\n",
       "         [0.4120],\n",
       "         [0.4260]]),\n",
       " 50,\n",
       " 50)"
      ]
     },
     "execution_count": 3,
     "metadata": {},
     "output_type": "execute_result"
    }
   ],
   "source": [
    "#Create some data using linear regression formula Y=mx+c\n",
    "#weight= m and bias= c \n",
    "weight=0.7\n",
    "bias=0.3\n",
    "#Create some random data \n",
    "start=0\n",
    "end=1\n",
    "step=0.02\n",
    "X=torch.arange(start,end,step).unsqueeze(dim=1)\n",
    "y=weight*X+bias \n",
    "X[:10],y[:10],len(X),len(y)"
   ]
  },
  {
   "cell_type": "markdown",
   "id": "d0b4e5ab",
   "metadata": {},
   "source": [
    "###Splitting Data into Training and Testing sets "
   ]
  },
  {
   "cell_type": "code",
   "execution_count": 4,
   "id": "71f67e67",
   "metadata": {},
   "outputs": [
    {
     "data": {
      "text/plain": [
       "(40, 40, 10, 10)"
      ]
     },
     "execution_count": 4,
     "metadata": {},
     "output_type": "execute_result"
    }
   ],
   "source": [
    "#Create a train test split\n",
    "train_split=int(0.8*len(X))\n",
    "X_train, y_train = X[:train_split],y[:train_split]\n",
    "X_test, y_test = X[train_split:],y[train_split:]\n",
    "len(X_train),len(y_train),len(X_test),len(y_test)"
   ]
  },
  {
   "cell_type": "code",
   "execution_count": 5,
   "id": "7c78a812",
   "metadata": {},
   "outputs": [
    {
     "data": {
      "text/plain": [
       "(tensor([[0.0000],\n",
       "         [0.0200],\n",
       "         [0.0400],\n",
       "         [0.0600],\n",
       "         [0.0800],\n",
       "         [0.1000],\n",
       "         [0.1200],\n",
       "         [0.1400],\n",
       "         [0.1600],\n",
       "         [0.1800],\n",
       "         [0.2000],\n",
       "         [0.2200],\n",
       "         [0.2400],\n",
       "         [0.2600],\n",
       "         [0.2800],\n",
       "         [0.3000],\n",
       "         [0.3200],\n",
       "         [0.3400],\n",
       "         [0.3600],\n",
       "         [0.3800],\n",
       "         [0.4000],\n",
       "         [0.4200],\n",
       "         [0.4400],\n",
       "         [0.4600],\n",
       "         [0.4800],\n",
       "         [0.5000],\n",
       "         [0.5200],\n",
       "         [0.5400],\n",
       "         [0.5600],\n",
       "         [0.5800],\n",
       "         [0.6000],\n",
       "         [0.6200],\n",
       "         [0.6400],\n",
       "         [0.6600],\n",
       "         [0.6800],\n",
       "         [0.7000],\n",
       "         [0.7200],\n",
       "         [0.7400],\n",
       "         [0.7600],\n",
       "         [0.7800]]),\n",
       " tensor([[0.8600],\n",
       "         [0.8740],\n",
       "         [0.8880],\n",
       "         [0.9020],\n",
       "         [0.9160],\n",
       "         [0.9300],\n",
       "         [0.9440],\n",
       "         [0.9580],\n",
       "         [0.9720],\n",
       "         [0.9860]]))"
      ]
     },
     "execution_count": 5,
     "metadata": {},
     "output_type": "execute_result"
    }
   ],
   "source": [
    "X_train,y_test"
   ]
  },
  {
   "cell_type": "markdown",
   "id": "6b0465ea",
   "metadata": {},
   "source": [
    "###Visualizing Data  "
   ]
  },
  {
   "cell_type": "code",
   "execution_count": 12,
   "id": "cd79455a",
   "metadata": {},
   "outputs": [
    {
     "data": {
      "image/png": "[encoded data removed]",
      "text/plain": [
       "<Figure size 1000x1000 with 1 Axes>"
      ]
     },
     "metadata": {},
     "output_type": "display_data"
    }
   ],
   "source": [
    "def plot_predictions(train_data=X_train,\n",
    "                     train_labels=y_train,\n",
    "                     test_data=X_test,\n",
    "                     test_labels=y_test,\n",
    "                     prediction=None\n",
    "                     ):\n",
    "    plt.figure(figsize=(10,10))\n",
    "    #plot training in blue\n",
    "    plt.scatter(train_data,train_labels, c=\"b\",s=4,label=\"Training data\")\n",
    "    #plot training in blue\n",
    "    plt.scatter(test_data,test_labels, c=\"r\",s=4,label=\"Testing data\")\n",
    "    if prediction is not None:\n",
    "        plt.scatter(test_data,prediction, c=\"y\",s=4,label=\"Predictions\")\n",
    "\n",
    "    #Show legend\n",
    "    plt.legend(prop={\"size\": 14}); \n",
    "plot_predictions()    "
   ]
  },
  {
   "cell_type": "code",
   "execution_count": null,
   "id": "ea6b7bb6",
   "metadata": {},
   "outputs": [],
   "source": []
  }
 ],
 "metadata": {
  "kernelspec": {
   "display_name": "ai_venv",
   "language": "python",
   "name": "python3"
  },
  "language_info": {
   "codemirror_mode": {
    "name": "ipython",
    "version": 3
   },
   "file_extension": ".py",
   "mimetype": "text/x-python",
   "name": "python",
   "nbconvert_exporter": "python",
   "pygments_lexer": "ipython3",
   "version": "3.13.3"
  }
 },
 "nbformat": 4,
 "nbformat_minor": 5
}
